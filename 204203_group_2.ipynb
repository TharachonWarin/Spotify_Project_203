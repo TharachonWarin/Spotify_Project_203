{
  "cells": [
    {
      "cell_type": "markdown",
      "metadata": {
        "id": "4AugOBn_U4xu"
      },
      "source": [
        "# **Most **"
      ]
    },
    {
      "cell_type": "code",
      "execution_count": null,
      "metadata": {
        "colab": {
          "base_uri": "https://localhost:8080/"
        },
        "id": "k0sN0B9jxkmB",
        "outputId": "6f16d33a-40c8-4130-eab0-ee531b370c34"
      },
      "outputs": [
        {
          "name": "stdout",
          "output_type": "stream",
          "text": [
            "fatal: destination path 'Spotify_Project_203' already exists and is not an empty directory.\n"
          ]
        }
      ],
      "source": [
        "import pandas as pd\n",
        "!git clone https://github.com/TharachonWarin/Spotify_Project_203/\n",
        "sp23 = pd.read_csv('./Spotify_Project_203/Combined-2023.csv')\n",
        "sp24 = pd.read_csv('./Spotify_Project_203/Combined-2024.csv')"
      ]
    },
    {
      "cell_type": "markdown",
      "metadata": {
        "id": "AdqZR3iBhbza"
      },
      "source": [
        "# **Box Plot**\n",
        "Outlier datas and create box plots\n",
        "\n"
      ]
    },
    {
      "cell_type": "markdown",
      "source": [
        "### Feature - Streams\n"
      ],
      "metadata": {
        "id": "76gXRsBzankw"
      }
    },
    {
      "cell_type": "code",
      "source": [],
      "metadata": {
        "id": "Xt7DDxp8cLq0"
      },
      "execution_count": null,
      "outputs": []
    },
    {
      "cell_type": "markdown",
      "source": [
        "### Feature - BPM"
      ],
      "metadata": {
        "id": "Ybl4fQsubVHk"
      }
    },
    {
      "cell_type": "code",
      "source": [],
      "metadata": {
        "id": "jpJ592sacMGH"
      },
      "execution_count": null,
      "outputs": []
    },
    {
      "cell_type": "markdown",
      "source": [
        "### Feature - Danceability"
      ],
      "metadata": {
        "id": "GswY4ITrbaN4"
      }
    },
    {
      "cell_type": "code",
      "source": [],
      "metadata": {
        "id": "KVNoZKR1cMv7"
      },
      "execution_count": null,
      "outputs": []
    },
    {
      "cell_type": "markdown",
      "source": [
        "### Feature - Valence"
      ],
      "metadata": {
        "id": "eEG6o-22biBB"
      }
    },
    {
      "cell_type": "code",
      "source": [],
      "metadata": {
        "id": "zLW9sMoEcQVI"
      },
      "execution_count": null,
      "outputs": []
    },
    {
      "cell_type": "markdown",
      "source": [
        "### Feature - Energy"
      ],
      "metadata": {
        "id": "lqqXTfq3bly6"
      }
    },
    {
      "cell_type": "code",
      "source": [],
      "metadata": {
        "id": "QdD2GtQlcQyG"
      },
      "execution_count": null,
      "outputs": []
    },
    {
      "cell_type": "markdown",
      "source": [
        "### Feature - Acousticness"
      ],
      "metadata": {
        "id": "WKK-GzK_bqkT"
      }
    },
    {
      "cell_type": "code",
      "source": [],
      "metadata": {
        "id": "mql0pMcvcRH9"
      },
      "execution_count": null,
      "outputs": []
    },
    {
      "cell_type": "markdown",
      "source": [
        "### Feature - Instrumentalness"
      ],
      "metadata": {
        "id": "9sdMTgHMbw9b"
      }
    },
    {
      "cell_type": "code",
      "source": [],
      "metadata": {
        "id": "Xrs74xJacRbT"
      },
      "execution_count": null,
      "outputs": []
    },
    {
      "cell_type": "markdown",
      "source": [
        "### Feature - Liveness"
      ],
      "metadata": {
        "id": "7WeyVvmhb5AC"
      }
    },
    {
      "cell_type": "code",
      "source": [],
      "metadata": {
        "id": "zFn4FeoacR4e"
      },
      "execution_count": null,
      "outputs": []
    },
    {
      "cell_type": "markdown",
      "source": [
        "### Feature - Spechiness"
      ],
      "metadata": {
        "id": "2hyJ_S87b8Fd"
      }
    },
    {
      "cell_type": "code",
      "source": [],
      "metadata": {
        "id": "xIQAyh_4cSRA"
      },
      "execution_count": null,
      "outputs": []
    },
    {
      "cell_type": "markdown",
      "source": [
        "### Feature - Artist Count"
      ],
      "metadata": {
        "id": "1h6Rh_sZcDWb"
      }
    },
    {
      "cell_type": "code",
      "source": [],
      "metadata": {
        "id": "fLPWkFLIcSk9"
      },
      "execution_count": null,
      "outputs": []
    }
  ],
  "metadata": {
    "colab": {
      "collapsed_sections": [
        "AdqZR3iBhbza"
      ],
      "provenance": []
    },
    "kernelspec": {
      "display_name": "Python 3",
      "name": "python3"
    },
    "language_info": {
      "codemirror_mode": {
        "name": "ipython",
        "version": 3
      },
      "file_extension": ".py",
      "mimetype": "text/x-python",
      "name": "python",
      "nbconvert_exporter": "python",
      "pygments_lexer": "ipython3",
      "version": "3.8.10"
    }
  },
  "nbformat": 4,
  "nbformat_minor": 0
}