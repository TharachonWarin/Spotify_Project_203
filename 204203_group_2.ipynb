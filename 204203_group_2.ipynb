{
  "cells": [
    {
      "cell_type": "markdown",
      "metadata": {
        "id": "4AugOBn_U4xu"
      },
      "source": [
        "# **Most **"
      ]
    },
    {
      "cell_type": "code",
      "execution_count": 110,
      "metadata": {
        "colab": {
          "base_uri": "https://localhost:8080/"
        },
        "id": "k0sN0B9jxkmB",
        "outputId": "22f94064-0b84-4478-8587-f1eb7c9a871d"
      },
      "outputs": [
        {
          "output_type": "stream",
          "name": "stdout",
          "text": [
            "fatal: destination path 'Spotify_Project_203' already exists and is not an empty directory.\n"
          ]
        }
      ],
      "source": [
        "import pandas as pd\n",
        "import numpy as np\n",
        "import matplotlib.pyplot as plt\n",
        "\n",
        "!git clone https://github.com/TharachonWarin/Spotify_Project_203/\n",
        "sp23 = pd.read_csv('./Spotify_Project_203/Combined-2023.csv')\n",
        "sp24 = pd.read_csv('./Spotify_Project_203/Combined-2024.csv')\n"
      ]
    },
    {
      "cell_type": "code",
      "source": [
        "RND_SEED: int = 12345\n",
        "np.random.seed(RND_SEED)\n",
        "pd.core.common.random_state(RND_SEED)"
      ],
      "metadata": {
        "colab": {
          "base_uri": "https://localhost:8080/"
        },
        "id": "Ymz_ZkcgnYZx",
        "outputId": "bb2aa9de-0e9b-4543-e216-f24e0d9d3d7f"
      },
      "execution_count": 111,
      "outputs": [
        {
          "output_type": "execute_result",
          "data": {
            "text/plain": [
              "RandomState(MT19937) at 0x785514A33840"
            ]
          },
          "metadata": {},
          "execution_count": 111
        }
      ]
    },
    {
      "cell_type": "markdown",
      "metadata": {
        "id": "AdqZR3iBhbza"
      },
      "source": [
        "# **Box Plot**\n",
        "Outlier datas and create box plots\n",
        "\n"
      ]
    },
    {
      "cell_type": "markdown",
      "source": [
        "### Feature - Streams\n"
      ],
      "metadata": {
        "id": "76gXRsBzankw"
      }
    },
    {
      "cell_type": "markdown",
      "source": [
        "### Feature - BPM"
      ],
      "metadata": {
        "id": "Ybl4fQsubVHk"
      }
    },
    {
      "cell_type": "code",
      "source": [],
      "metadata": {
        "id": "jpJ592sacMGH"
      },
      "execution_count": 105,
      "outputs": []
    },
    {
      "cell_type": "markdown",
      "source": [
        "### Feature - Danceability"
      ],
      "metadata": {
        "id": "GswY4ITrbaN4"
      }
    },
    {
      "cell_type": "markdown",
      "source": [
        "Aommy-edit"
      ],
      "metadata": {
        "id": "2m9zQKWV5hvY"
      }
    },
    {
      "cell_type": "code",
      "source": [
        "Q1 = sp23['danceability_%'].quantile(0.25)\n",
        "Q2 = sp23['danceability_%'].quantile(0.50)\n",
        "Q3 = sp23['danceability_%'].quantile(0.75)\n",
        "IQR = Q3 - Q1"
      ],
      "metadata": {
        "id": "REMqbu4zuto_"
      },
      "execution_count": 128,
      "outputs": []
    },
    {
      "cell_type": "code",
      "source": [
        "lower_bound = Q1 - 1.5 * IQR\n",
        "upper_bound = Q3 + 1.5 * IQR\n",
        "\n",
        "# dance = sp23[(sp23['danceability_%'] >= lower_bound) & (sp23['danceability_%'] <= upper_bound)]"
      ],
      "metadata": {
        "id": "i3-bzuwAu75L"
      },
      "execution_count": 129,
      "outputs": []
    },
    {
      "cell_type": "code",
      "source": [
        "ax = sp23.boxplot(column=['danceability_%'])\n",
        "ax.set_title('Box Plot of Danceability')\n",
        "\n",
        "plt.text(1.1, Q1-0.5, 'Q1 = 57.00',\n",
        "         fontsize=9)\n",
        "plt.text(1.1, Q2-1.5, 'Mean = 69.00',\n",
        "         fontsize=9)\n",
        "plt.text(1.1, Q3-1, 'Q3 = 78.00',\n",
        "         fontsize=9)\n",
        "\n",
        "\n",
        "plt.show()\n"
      ],
      "metadata": {
        "id": "KVNoZKR1cMv7",
        "colab": {
          "base_uri": "https://localhost:8080/",
          "height": 452
        },
        "outputId": "7d32f56b-7685-48c2-a922-b71031e66a76"
      },
      "execution_count": 134,
      "outputs": [
        {
          "output_type": "display_data",
          "data": {
            "text/plain": [
              "<Figure size 640x480 with 1 Axes>"
            ],
            "image/png": "[encoded data removed]"
          },
          "metadata": {}
        }
      ]
    },
    {
      "cell_type": "markdown",
      "source": [
        "### Feature - Valence"
      ],
      "metadata": {
        "id": "eEG6o-22biBB"
      }
    },
    {
      "cell_type": "code",
      "source": [],
      "metadata": {
        "id": "zLW9sMoEcQVI"
      },
      "execution_count": 108,
      "outputs": []
    },
    {
      "cell_type": "markdown",
      "source": [
        "### Feature - Energy"
      ],
      "metadata": {
        "id": "lqqXTfq3bly6"
      }
    },
    {
      "cell_type": "code",
      "source": [],
      "metadata": {
        "id": "QdD2GtQlcQyG"
      },
      "execution_count": 108,
      "outputs": []
    },
    {
      "cell_type": "markdown",
      "source": [
        "### Feature - Acousticness"
      ],
      "metadata": {
        "id": "WKK-GzK_bqkT"
      }
    },
    {
      "cell_type": "code",
      "source": [],
      "metadata": {
        "id": "mql0pMcvcRH9"
      },
      "execution_count": 108,
      "outputs": []
    },
    {
      "cell_type": "markdown",
      "source": [
        "### Feature - Instrumentalness"
      ],
      "metadata": {
        "id": "9sdMTgHMbw9b"
      }
    },
    {
      "cell_type": "code",
      "source": [],
      "metadata": {
        "id": "Xrs74xJacRbT"
      },
      "execution_count": 108,
      "outputs": []
    },
    {
      "cell_type": "markdown",
      "source": [
        "### Feature - Liveness"
      ],
      "metadata": {
        "id": "7WeyVvmhb5AC"
      }
    },
    {
      "cell_type": "code",
      "source": [],
      "metadata": {
        "id": "zFn4FeoacR4e"
      },
      "execution_count": 108,
      "outputs": []
    },
    {
      "cell_type": "markdown",
      "source": [
        "### Feature - Spechiness"
      ],
      "metadata": {
        "id": "2hyJ_S87b8Fd"
      }
    },
    {
      "cell_type": "code",
      "source": [],
      "metadata": {
        "id": "xIQAyh_4cSRA"
      },
      "execution_count": 108,
      "outputs": []
    },
    {
      "cell_type": "markdown",
      "source": [
        "### Feature - Artist Count"
      ],
      "metadata": {
        "id": "1h6Rh_sZcDWb"
      }
    },
    {
      "cell_type": "code",
      "source": [],
      "metadata": {
        "id": "fLPWkFLIcSk9"
      },
      "execution_count": 108,
      "outputs": []
    }
  ],
  "metadata": {
    "colab": {
      "collapsed_sections": [
        "AdqZR3iBhbza"
      ],
      "provenance": []
    },
    "kernelspec": {
      "display_name": "Python 3",
      "name": "python3"
    },
    "language_info": {
      "codemirror_mode": {
        "name": "ipython",
        "version": 3
      },
      "file_extension": ".py",
      "mimetype": "text/x-python",
      "name": "python",
      "nbconvert_exporter": "python",
      "pygments_lexer": "ipython3",
      "version": "3.8.10"
    }
  },
  "nbformat": 4,
  "nbformat_minor": 0
}