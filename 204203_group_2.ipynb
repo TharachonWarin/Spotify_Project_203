{
  "cells": [
    {
      "cell_type": "markdown",
      "metadata": {
        "id": "4AugOBn_U4xu"
      },
      "source": [
        "# **Most **"
      ]
    },
    {
      "cell_type": "code",
      "execution_count": null,
      "metadata": {
        "colab": {
          "base_uri": "https://localhost:8080/"
        },
        "id": "k0sN0B9jxkmB",
        "outputId": "22f94064-0b84-4478-8587-f1eb7c9a871d"
      },
      "outputs": [
        {
          "output_type": "stream",
          "name": "stdout",
          "text": [
            "fatal: destination path 'Spotify_Project_203' already exists and is not an empty directory.\n"
          ]
        }
      ],
      "source": [
        "import pandas as pd\n",
        "import numpy as np\n",
        "import matplotlib.pyplot as plt\n",
        "\n",
        "!git clone https://github.com/TharachonWarin/Spotify_Project_203/\n",
        "sp23 = pd.read_csv('./Spotify_Project_203/Combined-2023.csv')\n",
        "sp24 = pd.read_csv('./Spotify_Project_203/Combined-2024.csv')\n"
      ]
    },
    {
      "cell_type": "code",
      "source": [
        "RND_SEED: int = 12345\n",
        "np.random.seed(RND_SEED)\n",
        "pd.core.common.random_state(RND_SEED)"
      ],
      "metadata": {
        "colab": {
          "base_uri": "https://localhost:8080/"
        },
        "id": "Ymz_ZkcgnYZx",
        "outputId": "bb2aa9de-0e9b-4543-e216-f24e0d9d3d7f"
      },
      "execution_count": null,
      "outputs": [
        {
          "output_type": "execute_result",
          "data": {
            "text/plain": [
              "RandomState(MT19937) at 0x785514A33840"
            ]
          },
          "metadata": {},
          "execution_count": 111
        }
      ]
    },
    {
      "cell_type": "markdown",
      "metadata": {
        "id": "AdqZR3iBhbza"
      },
      "source": [
        "# **Box Plot**\n",
        "Outlier datas and create box plots\n",
        "\n"
      ]
    },
    {
      "cell_type": "markdown",
      "source": [
        "### Feature - Streams\n"
      ],
      "metadata": {
        "id": "76gXRsBzankw"
      }
    },
    {
      "cell_type": "markdown",
      "source": [
        "### Feature - BPM"
      ],
      "metadata": {
        "id": "Ybl4fQsubVHk"
      }
    },
    {
      "cell_type": "code",
      "source": [
        "Q1 = sp23['bpm'].quantile(0.25)\n",
        "Q2 = sp23['bpm'].quantile(0.50)\n",
        "Q3 = sp23['bpm'].quantile(0.75)\n",
        "\n",
        "IQR = Q3 - Q1\n",
        "lower_bound = Q1 - 1.5 * IQR\n",
        "upper_bound = Q3 + 1.5 * IQR\n",
        "\n",
        "bpmBox = {\n",
        "    'bound':[lower_bound, upper_bound],\n",
        "    'boxes':[Q1,Q3],\n",
        "    'medians':[Q2],\n",
        "    'fliers':[]\n",
        "}\n",
        "\n",
        "ax = sp23.boxplot(column=['bpm'])\n",
        "ax.set_title('Box Plot of BPM')\n",
        "\n",
        "plt.text(1.1, Q1-1, 'Q1 = 100.00', fontsize=9)\n",
        "plt.text(1.1, Q3+1, 'Q3 = 120.00', fontsize=9)\n",
        "plt.text(1.1, Q2, 'Median = 110.00', fontsize=9)\n",
        "plt.show()"
      ],
      "metadata": {
        "id": "jpJ592sacMGH"
      },
      "execution_count": null,
      "outputs": []
    },
    {
      "cell_type": "code",
      "source": [
        "#filter bpm outliner\n",
        "filtered_bpm = sp23[(sp23['bpm'] >= lower_bound) & (sp23['bpm'] <= upper_bound)]['bpm']"
      ],
      "metadata": {
        "id": "oQpR8TM1Ywbm"
      },
      "execution_count": null,
      "outputs": []
    },
    {
      "cell_type": "markdown",
      "source": [
        "### Feature - Danceability"
      ],
      "metadata": {
        "id": "GswY4ITrbaN4"
      }
    },
    {
      "cell_type": "markdown",
      "source": [
        "Aommy-edit"
      ],
      "metadata": {
        "id": "2m9zQKWV5hvY"
      }
    },
    {
      "cell_type": "code",
      "source": [
        "Q1 = sp23['danceability_%'].quantile(0.25)\n",
        "Q2 = sp23['danceability_%'].quantile(0.50)\n",
        "Q3 = sp23['danceability_%'].quantile(0.75)\n",
        "IQR = Q3 - Q1"
      ],
      "metadata": {
        "id": "REMqbu4zuto_"
      },
      "execution_count": null,
      "outputs": []
    },
    {
      "cell_type": "code",
      "source": [
        "lower_bound = Q1 - 1.5 * IQR\n",
        "upper_bound = Q3 + 1.5 * IQR\n",
        "\n",
        "# dance = sp23[(sp23['danceability_%'] >= lower_bound) & (sp23['danceability_%'] <= upper_bound)]"
      ],
      "metadata": {
        "id": "i3-bzuwAu75L"
      },
      "execution_count": null,
      "outputs": []
    },
    {
      "cell_type": "code",
      "source": [
        "ax = sp23.boxplot(column=['danceability_%'])\n",
        "ax.set_title('Box Plot of Danceability')\n",
        "\n",
        "plt.text(1.1, Q1-0.5, 'Q1 = 57.00',\n",
        "         fontsize=9)\n",
        "plt.text(1.1, Q2-1.5, 'Mean = 69.00',\n",
        "         fontsize=9)\n",
        "plt.text(1.1, Q3-1, 'Q3 = 78.00',\n",
        "         fontsize=9)\n",
        "\n",
        "\n",
        "plt.show()\n"
      ],
      "metadata": {
        "id": "KVNoZKR1cMv7",
        "colab": {
          "base_uri": "https://localhost:8080/",
          "height": 452
        },
        "outputId": "7d32f56b-7685-48c2-a922-b71031e66a76"
      },
      "execution_count": null,
      "outputs": [
        {
          "output_type": "display_data",
          "data": {
            "text/plain": [
              "<Figure size 640x480 with 1 Axes>"
            ],
            "image/png": "[encoded data removed]"
          },
          "metadata": {}
        }
      ]
    },
    {
      "cell_type": "markdown",
      "source": [
        "### Feature - Valence"
      ],
      "metadata": {
        "id": "eEG6o-22biBB"
      }
    },
    {
      "cell_type": "markdown",
      "source": [
        "Aommy"
      ],
      "metadata": {
        "id": "x2U-RNkNT1kq"
      }
    },
    {
      "cell_type": "code",
      "source": [
        "Q1 = sp23['valence_%'].quantile(0.25)\n",
        "Q2 = sp23['valence_%'].quantile(0.50)\n",
        "Q3 = sp23['valence_%'].quantile(0.75)\n",
        "IQR = Q3 - Q1\n",
        "lower_bound = Q1 - 1.5 * IQR\n",
        "upper_bound = Q3 + 1.5 * IQR\n",
        "Q3"
      ],
      "metadata": {
        "id": "zLW9sMoEcQVI",
        "colab": {
          "base_uri": "https://localhost:8080/"
        },
        "outputId": "7119532d-1c09-4991-c708-e731188980aa"
      },
      "execution_count": null,
      "outputs": [
        {
          "output_type": "execute_result",
          "data": {
            "text/plain": [
              "70.0"
            ]
          },
          "metadata": {},
          "execution_count": 143
        }
      ]
    },
    {
      "cell_type": "code",
      "source": [
        "ax = sp23.boxplot(column=['valence_%'])\n",
        "ax.set_title('Box Plot of Valence')\n",
        "\n",
        "plt.text(1.1, Q1-0.5, 'Q1 = 32.00',\n",
        "         fontsize=9)\n",
        "plt.text(1.1, Q2-1.5, 'Mean = 51.00',\n",
        "         fontsize=9)\n",
        "plt.text(1.1, Q3-1, 'Q3 = 70.00',\n",
        "         fontsize=9)\n"
      ],
      "metadata": {
        "id": "xkNzbskvTS7b",
        "outputId": "21af19d3-e308-49ac-f78d-415915ff54d6",
        "colab": {
          "base_uri": "https://localhost:8080/",
          "height": 469
        }
      },
      "execution_count": null,
      "outputs": [
        {
          "output_type": "execute_result",
          "data": {
            "text/plain": [
              "Text(1.1, 69.0, 'Q3 = 70.00')"
            ]
          },
          "metadata": {},
          "execution_count": 144
        },
        {
          "output_type": "display_data",
          "data": {
            "text/plain": [
              "<Figure size 640x480 with 1 Axes>"
            ],
            "image/png": "[encoded data removed]"
          },
          "metadata": {}
        }
      ]
    },
    {
      "cell_type": "markdown",
      "source": [
        "### Feature - Energy"
      ],
      "metadata": {
        "id": "lqqXTfq3bly6"
      }
    },
    {
      "cell_type": "code",
      "source": [
        "Q1 = sp23['energy_%'].quantile(0.25)\n",
        "Q2 = sp23['energy_%'].quantile(0.50)\n",
        "Q3 = sp23['energy_%'].quantile(0.75)\n",
        "IQR = Q3 - Q1\n",
        "lower_bound = Q1 - 1.5 * IQR\n",
        "upper_bound = Q3 + 1.5 * IQR\n",
        "Q3"
      ],
      "metadata": {
        "id": "QdD2GtQlcQyG",
        "colab": {
          "base_uri": "https://localhost:8080/"
        },
        "outputId": "0018d495-713e-4fe1-a1b1-83f4882ee5df"
      },
      "execution_count": null,
      "outputs": [
        {
          "output_type": "execute_result",
          "data": {
            "text/plain": [
              "77.0"
            ]
          },
          "metadata": {},
          "execution_count": 150
        }
      ]
    },
    {
      "cell_type": "code",
      "source": [
        "ax = sp23.boxplot(column=['energy_%'])\n",
        "ax.set_title('Box Plot of Energy')\n",
        "\n",
        "plt.text(1.1, Q1-0.5, 'Q1 = 53.00',\n",
        "         fontsize=9)\n",
        "plt.text(1.1, Q2-1.5, 'Mean = 66.00',\n",
        "         fontsize=9)\n",
        "plt.text(1.1, Q3-1, 'Q3 = 77.00',\n",
        "         fontsize=9)\n"
      ],
      "metadata": {
        "id": "1MPo3vVjT8JQ",
        "outputId": "9cc68d46-0399-4dbf-b895-a72635acf7de",
        "colab": {
          "base_uri": "https://localhost:8080/",
          "height": 469
        }
      },
      "execution_count": null,
      "outputs": [
        {
          "output_type": "execute_result",
          "data": {
            "text/plain": [
              "Text(1.1, 76.0, 'Q3 = 77.00')"
            ]
          },
          "metadata": {},
          "execution_count": 152
        },
        {
          "output_type": "display_data",
          "data": {
            "text/plain": [
              "<Figure size 640x480 with 1 Axes>"
            ],
            "image/png": "[encoded data removed]"
          },
          "metadata": {}
        }
      ]
    },
    {
      "cell_type": "markdown",
      "source": [
        "### Feature - Acousticness"
      ],
      "metadata": {
        "id": "WKK-GzK_bqkT"
      }
    },
    {
      "cell_type": "code",
      "source": [],
      "metadata": {
        "id": "mql0pMcvcRH9"
      },
      "execution_count": null,
      "outputs": []
    },
    {
      "cell_type": "markdown",
      "source": [
        "### Feature - Instrumentalness"
      ],
      "metadata": {
        "id": "9sdMTgHMbw9b"
      }
    },
    {
      "cell_type": "code",
      "source": [],
      "metadata": {
        "id": "Xrs74xJacRbT"
      },
      "execution_count": null,
      "outputs": []
    },
    {
      "cell_type": "markdown",
      "source": [
        "### Feature - Liveness"
      ],
      "metadata": {
        "id": "7WeyVvmhb5AC"
      }
    },
    {
      "cell_type": "code",
      "source": [],
      "metadata": {
        "id": "zFn4FeoacR4e"
      },
      "execution_count": null,
      "outputs": []
    },
    {
      "cell_type": "markdown",
      "source": [
        "### Feature - Spechiness"
      ],
      "metadata": {
        "id": "2hyJ_S87b8Fd"
      }
    },
    {
      "cell_type": "code",
      "source": [],
      "metadata": {
        "id": "xIQAyh_4cSRA"
      },
      "execution_count": null,
      "outputs": []
    },
    {
      "cell_type": "markdown",
      "source": [
        "### Feature - Artist Count"
      ],
      "metadata": {
        "id": "1h6Rh_sZcDWb"
      }
    },
    {
      "cell_type": "code",
      "source": [],
      "metadata": {
        "id": "fLPWkFLIcSk9"
      },
      "execution_count": null,
      "outputs": []
    }
  ],
  "metadata": {
    "colab": {
      "collapsed_sections": [
        "AdqZR3iBhbza"
      ],
      "provenance": []
    },
    "kernelspec": {
      "display_name": "Python 3",
      "name": "python3"
    },
    "language_info": {
      "codemirror_mode": {
        "name": "ipython",
        "version": 3
      },
      "file_extension": ".py",
      "mimetype": "text/x-python",
      "name": "python",
      "nbconvert_exporter": "python",
      "pygments_lexer": "ipython3",
      "version": "3.8.10"
    }
  },
  "nbformat": 4,
  "nbformat_minor": 0
}