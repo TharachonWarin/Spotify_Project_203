{
  "nbformat": 4,
  "nbformat_minor": 0,
  "metadata": {
    "colab": {
      "provenance": [],
      "collapsed_sections": [
        "AdqZR3iBhbza"
      ]
    },
    "kernelspec": {
      "name": "python3",
      "display_name": "Python 3"
    },
    "language_info": {
      "name": "python"
    }
  },
  "cells": [
    {
      "cell_type": "markdown",
      "source": [
        "# **Most **"
      ],
      "metadata": {
        "id": "4AugOBn_U4xu"
      }
    },
    {
      "cell_type": "code",
      "execution_count": null,
      "metadata": {
        "id": "k0sN0B9jxkmB",
        "colab": {
          "base_uri": "https://localhost:8080/"
        },
        "outputId": "6f16d33a-40c8-4130-eab0-ee531b370c34"
      },
      "outputs": [
        {
          "output_type": "stream",
          "name": "stdout",
          "text": [
            "fatal: destination path 'Spotify_Project_203' already exists and is not an empty directory.\n"
          ]
        }
      ],
      "source": [
        "import pandas as pd\n",
        "!git clone https://github.com/TharachonWarin/Spotify_Project_203/\n",
        "data23 = pd.read_csv('./Spotify_Project_203/Combined-2023.csv')\n",
        "data24 = pd.read_csv('./Spotify_Project_203/Combined-2024.csv')"
      ]
    },
    {
      "cell_type": "markdown",
      "source": [
        "# **Create Dataframe**"
      ],
      "metadata": {
        "id": "AdqZR3iBhbza"
      }
    },
    {
      "cell_type": "markdown",
      "source": [
        "# **Cleaning Data**\n",
        "\n"
      ],
      "metadata": {
        "id": "mGWPoAw2Ddq-"
      }
    },
    {
      "cell_type": "markdown",
      "source": [
        "delete useless column"
      ],
      "metadata": {
        "id": "5ASH2HnvieZp"
      }
    },
    {
      "cell_type": "markdown",
      "source": [
        "Do not Run again!"
      ],
      "metadata": {
        "id": "rn_l_x1vuEXD"
      }
    },
    {
      "cell_type": "code",
      "source": [
        "del sp24['ISRC']\n",
        "del sp24['TIDAL Popularity']\n",
        "del sp23['released_day']\n",
        "del sp23['artist_count']"
      ],
      "metadata": {
        "id": "hjowQUpdBHg_"
      },
      "execution_count": null,
      "outputs": []
    },
    {
      "cell_type": "markdown",
      "source": [
        "split date-format to each column"
      ],
      "metadata": {
        "id": "FiTdKyDiE_pU"
      }
    },
    {
      "cell_type": "code",
      "source": [
        "sp24[['Released_month', 'Released_day', 'Released_year']] = sp24['Release Date'].str.split('/', expand=True)\n",
        "del sp24['Release Date'], sp24['Released_day']\n"
      ],
      "metadata": {
        "id": "XBGKbPIcFlRV"
      },
      "execution_count": null,
      "outputs": []
    },
    {
      "cell_type": "code",
      "source": [
        "print(\"test\")"
      ],
      "metadata": {
        "id": "6HyQeknAiXkv"
      },
      "execution_count": null,
      "outputs": []
    },
    {
      "cell_type": "code",
      "source": [
        "print(\"hello\")"
      ],
      "metadata": {
        "id": "480pugJ2hNI6"
      },
      "execution_count": null,
      "outputs": []
    }
  ]
}